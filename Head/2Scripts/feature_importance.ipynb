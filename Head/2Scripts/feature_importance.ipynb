{
 "cells": [
  {
   "cell_type": "markdown",
   "metadata": {},
   "source": [
    "# Важность признаков"
   ]
  },
  {
   "cell_type": "markdown",
   "metadata": {},
   "source": [
    "*Подключаем библиотеки*:"
   ]
  },
  {
   "cell_type": "code",
   "execution_count": 1,
   "metadata": {},
   "outputs": [],
   "source": [
    "import numpy as np\n",
    "import pandas as pd\n",
    "\n",
    "import matplotlib.pyplot as plt\n",
    "%matplotlib inline\n",
    "import seaborn as sns\n",
    "\n",
    "from sklearn.ensemble import RandomForestRegressor\n",
    "from sklearn.model_selection import cross_val_score, RandomizedSearchCV\n",
    "from sklearn.preprocessing import StandardScaler"
   ]
  },
  {
   "cell_type": "markdown",
   "metadata": {},
   "source": [
    "*загружаем табличку*"
   ]
  },
  {
   "cell_type": "code",
   "execution_count": 2,
   "metadata": {},
   "outputs": [],
   "source": [
    "import zipfile"
   ]
  },
  {
   "cell_type": "code",
   "execution_count": 3,
   "metadata": {},
   "outputs": [],
   "source": [
    "with zipfile.ZipFile('../../Body/3Results/AllGenesCodonUsageNoOverlap.txt.zip') as f:\n",
    "    f.extractall('../..')"
   ]
  },
  {
   "cell_type": "code",
   "execution_count": 4,
   "metadata": {},
   "outputs": [],
   "source": [
    "data = pd.read_csv('../../Body/3Results/AllGenesCodonUsageNoOverlap.txt', sep='\\t')"
   ]
  },
  {
   "cell_type": "code",
   "execution_count": 5,
   "metadata": {},
   "outputs": [
    {
     "data": {
      "text/html": [
       "<div>\n",
       "<style scoped>\n",
       "    .dataframe tbody tr th:only-of-type {\n",
       "        vertical-align: middle;\n",
       "    }\n",
       "\n",
       "    .dataframe tbody tr th {\n",
       "        vertical-align: top;\n",
       "    }\n",
       "\n",
       "    .dataframe thead th {\n",
       "        text-align: right;\n",
       "    }\n",
       "</style>\n",
       "<table border=\"1\" class=\"dataframe\">\n",
       "  <thead>\n",
       "    <tr style=\"text-align: right;\">\n",
       "      <th></th>\n",
       "      <th>Species</th>\n",
       "      <th>Gene</th>\n",
       "      <th>GeneStart</th>\n",
       "      <th>GeneEnd</th>\n",
       "      <th>CodonsToDeleteInTheBeginning</th>\n",
       "      <th>CodonsToDeleteAtTheEnd</th>\n",
       "      <th>AminoNoOverlap</th>\n",
       "      <th>CodonsNoOverlap</th>\n",
       "      <th>AAA</th>\n",
       "      <th>AAC</th>\n",
       "      <th>...</th>\n",
       "      <th>TTA</th>\n",
       "      <th>TTC</th>\n",
       "      <th>TTG</th>\n",
       "      <th>TTT</th>\n",
       "      <th>NeutralA</th>\n",
       "      <th>NeutralT</th>\n",
       "      <th>NeutralG</th>\n",
       "      <th>NeutralC</th>\n",
       "      <th>Taxonomy</th>\n",
       "      <th>Class</th>\n",
       "    </tr>\n",
       "  </thead>\n",
       "  <tbody>\n",
       "    <tr>\n",
       "      <td>0</td>\n",
       "      <td>Abalistes_stellaris</td>\n",
       "      <td>ND1</td>\n",
       "      <td>2856</td>\n",
       "      <td>3831</td>\n",
       "      <td>0</td>\n",
       "      <td>0</td>\n",
       "      <td>MISTLITHVISPLAFIVPILLAVAFLTLVERKVLGYMQLRKGPNVV...</td>\n",
       "      <td>ATGATCTCAACCCTTATTACCCACGTGATCTCCCCCCTGGCTTTCA...</td>\n",
       "      <td>7</td>\n",
       "      <td>4</td>\n",
       "      <td>...</td>\n",
       "      <td>8</td>\n",
       "      <td>13</td>\n",
       "      <td>1</td>\n",
       "      <td>9</td>\n",
       "      <td>79</td>\n",
       "      <td>23</td>\n",
       "      <td>16</td>\n",
       "      <td>66</td>\n",
       "      <td>Eukaryota_Metazoa_Chordata_Craniata_Vertebrata...</td>\n",
       "      <td>Actinopterygii</td>\n",
       "    </tr>\n",
       "    <tr>\n",
       "      <td>1</td>\n",
       "      <td>Abalistes_stellaris</td>\n",
       "      <td>ND2</td>\n",
       "      <td>4047</td>\n",
       "      <td>5092</td>\n",
       "      <td>0</td>\n",
       "      <td>0</td>\n",
       "      <td>MSPYILATLLFSLGLGTTITFMSSHWLLAWMGLEINTLAIIPLMTH...</td>\n",
       "      <td>ATGAGTCCTTACATCTTAGCCACCTTACTATTCAGCTTAGGCTTAG...</td>\n",
       "      <td>7</td>\n",
       "      <td>8</td>\n",
       "      <td>...</td>\n",
       "      <td>15</td>\n",
       "      <td>7</td>\n",
       "      <td>1</td>\n",
       "      <td>4</td>\n",
       "      <td>77</td>\n",
       "      <td>33</td>\n",
       "      <td>12</td>\n",
       "      <td>83</td>\n",
       "      <td>Eukaryota_Metazoa_Chordata_Craniata_Vertebrata...</td>\n",
       "      <td>Actinopterygii</td>\n",
       "    </tr>\n",
       "    <tr>\n",
       "      <td>2</td>\n",
       "      <td>Abalistes_stellaris</td>\n",
       "      <td>COX1</td>\n",
       "      <td>5483</td>\n",
       "      <td>7034</td>\n",
       "      <td>0</td>\n",
       "      <td>0</td>\n",
       "      <td>AITRWFFSTNHKDIGTLYLIFGAWAGMVGTALSLLIRAELSQPGAL...</td>\n",
       "      <td>GCAATTACACGTTGATTCTTCTCAACTAACCATAAAGACATCGGCA...</td>\n",
       "      <td>8</td>\n",
       "      <td>3</td>\n",
       "      <td>...</td>\n",
       "      <td>13</td>\n",
       "      <td>22</td>\n",
       "      <td>2</td>\n",
       "      <td>19</td>\n",
       "      <td>115</td>\n",
       "      <td>71</td>\n",
       "      <td>19</td>\n",
       "      <td>74</td>\n",
       "      <td>Eukaryota_Metazoa_Chordata_Craniata_Vertebrata...</td>\n",
       "      <td>Actinopterygii</td>\n",
       "    </tr>\n",
       "    <tr>\n",
       "      <td>3</td>\n",
       "      <td>Abalistes_stellaris</td>\n",
       "      <td>COX2</td>\n",
       "      <td>7188</td>\n",
       "      <td>7879</td>\n",
       "      <td>0</td>\n",
       "      <td>0</td>\n",
       "      <td>MAHPSQLGFQDAASPVMEELLHFHDHALMIVFLISTLVLYIIVAMV...</td>\n",
       "      <td>ATGGCCCATCCCTCACAACTAGGATTTCAAGATGCAGCCTCACCTG...</td>\n",
       "      <td>2</td>\n",
       "      <td>4</td>\n",
       "      <td>...</td>\n",
       "      <td>4</td>\n",
       "      <td>4</td>\n",
       "      <td>0</td>\n",
       "      <td>5</td>\n",
       "      <td>52</td>\n",
       "      <td>23</td>\n",
       "      <td>6</td>\n",
       "      <td>40</td>\n",
       "      <td>Eukaryota_Metazoa_Chordata_Craniata_Vertebrata...</td>\n",
       "      <td>Actinopterygii</td>\n",
       "    </tr>\n",
       "    <tr>\n",
       "      <td>4</td>\n",
       "      <td>Abalistes_stellaris</td>\n",
       "      <td>ATP8</td>\n",
       "      <td>7955</td>\n",
       "      <td>8123</td>\n",
       "      <td>0</td>\n",
       "      <td>4</td>\n",
       "      <td>MPQLNPAPWFAILVFSWLVFLIVLPPKVMAHVFPNESSPQSTEKPK...</td>\n",
       "      <td>ATGCCCCAGCTCAACCCTGCACCATGATTTGCTATTCTAGTTTTCT...</td>\n",
       "      <td>3</td>\n",
       "      <td>2</td>\n",
       "      <td>...</td>\n",
       "      <td>1</td>\n",
       "      <td>2</td>\n",
       "      <td>0</td>\n",
       "      <td>2</td>\n",
       "      <td>23</td>\n",
       "      <td>5</td>\n",
       "      <td>0</td>\n",
       "      <td>11</td>\n",
       "      <td>Eukaryota_Metazoa_Chordata_Craniata_Vertebrata...</td>\n",
       "      <td>Actinopterygii</td>\n",
       "    </tr>\n",
       "  </tbody>\n",
       "</table>\n",
       "<p>5 rows × 78 columns</p>\n",
       "</div>"
      ],
      "text/plain": [
       "               Species  Gene  GeneStart  GeneEnd  \\\n",
       "0  Abalistes_stellaris   ND1       2856     3831   \n",
       "1  Abalistes_stellaris   ND2       4047     5092   \n",
       "2  Abalistes_stellaris  COX1       5483     7034   \n",
       "3  Abalistes_stellaris  COX2       7188     7879   \n",
       "4  Abalistes_stellaris  ATP8       7955     8123   \n",
       "\n",
       "   CodonsToDeleteInTheBeginning  CodonsToDeleteAtTheEnd  \\\n",
       "0                             0                       0   \n",
       "1                             0                       0   \n",
       "2                             0                       0   \n",
       "3                             0                       0   \n",
       "4                             0                       4   \n",
       "\n",
       "                                      AminoNoOverlap  \\\n",
       "0  MISTLITHVISPLAFIVPILLAVAFLTLVERKVLGYMQLRKGPNVV...   \n",
       "1  MSPYILATLLFSLGLGTTITFMSSHWLLAWMGLEINTLAIIPLMTH...   \n",
       "2  AITRWFFSTNHKDIGTLYLIFGAWAGMVGTALSLLIRAELSQPGAL...   \n",
       "3  MAHPSQLGFQDAASPVMEELLHFHDHALMIVFLISTLVLYIIVAMV...   \n",
       "4  MPQLNPAPWFAILVFSWLVFLIVLPPKVMAHVFPNESSPQSTEKPK...   \n",
       "\n",
       "                                     CodonsNoOverlap  AAA  AAC  ...  TTA  TTC  \\\n",
       "0  ATGATCTCAACCCTTATTACCCACGTGATCTCCCCCCTGGCTTTCA...    7    4  ...    8   13   \n",
       "1  ATGAGTCCTTACATCTTAGCCACCTTACTATTCAGCTTAGGCTTAG...    7    8  ...   15    7   \n",
       "2  GCAATTACACGTTGATTCTTCTCAACTAACCATAAAGACATCGGCA...    8    3  ...   13   22   \n",
       "3  ATGGCCCATCCCTCACAACTAGGATTTCAAGATGCAGCCTCACCTG...    2    4  ...    4    4   \n",
       "4  ATGCCCCAGCTCAACCCTGCACCATGATTTGCTATTCTAGTTTTCT...    3    2  ...    1    2   \n",
       "\n",
       "   TTG  TTT  NeutralA  NeutralT  NeutralG  NeutralC  \\\n",
       "0    1    9        79        23        16        66   \n",
       "1    1    4        77        33        12        83   \n",
       "2    2   19       115        71        19        74   \n",
       "3    0    5        52        23         6        40   \n",
       "4    0    2        23         5         0        11   \n",
       "\n",
       "                                            Taxonomy           Class  \n",
       "0  Eukaryota_Metazoa_Chordata_Craniata_Vertebrata...  Actinopterygii  \n",
       "1  Eukaryota_Metazoa_Chordata_Craniata_Vertebrata...  Actinopterygii  \n",
       "2  Eukaryota_Metazoa_Chordata_Craniata_Vertebrata...  Actinopterygii  \n",
       "3  Eukaryota_Metazoa_Chordata_Craniata_Vertebrata...  Actinopterygii  \n",
       "4  Eukaryota_Metazoa_Chordata_Craniata_Vertebrata...  Actinopterygii  \n",
       "\n",
       "[5 rows x 78 columns]"
      ]
     },
     "execution_count": 5,
     "metadata": {},
     "output_type": "execute_result"
    }
   ],
   "source": [
    "data.head()"
   ]
  },
  {
   "cell_type": "markdown",
   "metadata": {},
   "source": [
    "Операции с табличкой как были в скрипте на R"
   ]
  },
  {
   "cell_type": "code",
   "execution_count": 6,
   "metadata": {},
   "outputs": [
    {
     "name": "stderr",
     "output_type": "stream",
     "text": [
      "/usr/local/lib/python3.7/site-packages/pandas/core/generic.py:5208: SettingWithCopyWarning: \n",
      "A value is trying to be set on a copy of a slice from a DataFrame.\n",
      "Try using .loc[row_indexer,col_indexer] = value instead\n",
      "\n",
      "See the caveats in the documentation: http://pandas.pydata.org/pandas-docs/stable/user_guide/indexing.html#returning-a-view-versus-a-copy\n",
      "  self[name] = value\n"
     ]
    }
   ],
   "source": [
    "NotND6 = data[data.Gene != 'ND6']\n",
    "ND6 = data [data.Gene == 'ND6']\n",
    "\n",
    "A = ND6.NeutralT\n",
    "C = ND6.NeutralG\n",
    "G = ND6.NeutralC\n",
    "T = ND6.NeutralA\n",
    "\n",
    "ND6.NeutralA = A\n",
    "ND6.NeutralC = C\n",
    "ND6.NeutralG = G\n",
    "ND6.NeutralT = T\n",
    "\n",
    "data = pd.concat([ND6, NotND6])"
   ]
  },
  {
   "cell_type": "markdown",
   "metadata": {},
   "source": [
    "*Группировка по суммам:*"
   ]
  },
  {
   "cell_type": "code",
   "execution_count": 7,
   "metadata": {},
   "outputs": [],
   "source": [
    "agg = data.groupby([data.Species, data.Class, data.Gene]).sum()[['NeutralA','NeutralT', 'NeutralG', 'NeutralC']]"
   ]
  },
  {
   "cell_type": "code",
   "execution_count": 8,
   "metadata": {},
   "outputs": [],
   "source": [
    "agg = agg.reset_index()"
   ]
  },
  {
   "cell_type": "code",
   "execution_count": 9,
   "metadata": {},
   "outputs": [],
   "source": [
    "agg['CTSkew'] = (agg.NeutralC- agg.NeutralT) / (agg.NeutralC + agg.NeutralT)  \n",
    "agg['CGSkew'] = (agg.NeutralC- agg.NeutralG) / (agg.NeutralG + agg.NeutralC)  \n",
    "agg['CASkew'] = (agg.NeutralC- agg.NeutralA) / (agg.NeutralC + agg.NeutralA)  \n",
    "agg['TGSkew'] = (agg.NeutralT- agg.NeutralG) / (agg.NeutralT + agg.NeutralG)  \n",
    "\n",
    "agg['TASkew'] = (agg.NeutralT- agg.NeutralA) / (agg.NeutralA + agg.NeutralT)  \n",
    "agg['GASkew'] = (agg.NeutralG- agg.NeutralA) / (agg.NeutralG + agg.NeutralA) \n",
    "\n",
    "\n",
    "# AGG$CTSkew = (AGG$NeutralC - AGG$NeutralT)/(AGG$NeutralC + AGG$NeutralT); summary(AGG$CTSkew) # GA on heavy\n",
    "# AGG$CGSkew = (AGG$NeutralC - AGG$NeutralG)/(AGG$NeutralC + AGG$NeutralG); summary(AGG$CGSkew) # \n",
    "# AGG$CASkew = (AGG$NeutralC - AGG$NeutralA)/(AGG$NeutralC + AGG$NeutralA); summary(AGG$CASkew) # \n",
    "# AGG$TGSkew = (AGG$NeutralT - AGG$NeutralG)/(AGG$NeutralT + AGG$NeutralG); summary(AGG$TGSkew) # \n",
    "# AGG$TASkew = (AGG$NeutralT - AGG$NeutralA)/(AGG$NeutralT + AGG$NeutralA); summary(AGG$TASkew) # \n",
    "# AGG$GASkew = (AGG$NeutralG - AGG$NeutralA)/(AGG$NeutralG + AGG$NeutralA); summary(AGG$GASkew) # "
   ]
  },
  {
   "cell_type": "markdown",
   "metadata": {},
   "source": [
    "*Длительность жизни животных:*"
   ]
  },
  {
   "cell_type": "code",
   "execution_count": 10,
   "metadata": {},
   "outputs": [],
   "source": [
    "mammals_long_data = pd.read_csv('../../Body/1Raw/GenerationLenghtforMammals.xlsx.txt', sep='\\t')"
   ]
  },
  {
   "cell_type": "code",
   "execution_count": 11,
   "metadata": {},
   "outputs": [],
   "source": [
    "mammals_long_data.Scientific_name = mammals_long_data.Scientific_name.str.replace(' ', '_')"
   ]
  },
  {
   "cell_type": "code",
   "execution_count": 12,
   "metadata": {},
   "outputs": [
    {
     "data": {
      "text/html": [
       "<div>\n",
       "<style scoped>\n",
       "    .dataframe tbody tr th:only-of-type {\n",
       "        vertical-align: middle;\n",
       "    }\n",
       "\n",
       "    .dataframe tbody tr th {\n",
       "        vertical-align: top;\n",
       "    }\n",
       "\n",
       "    .dataframe thead th {\n",
       "        text-align: right;\n",
       "    }\n",
       "</style>\n",
       "<table border=\"1\" class=\"dataframe\">\n",
       "  <thead>\n",
       "    <tr style=\"text-align: right;\">\n",
       "      <th></th>\n",
       "      <th>Genus</th>\n",
       "      <th>Scientific_name</th>\n",
       "      <th>AdultBodyMass_g</th>\n",
       "      <th>Sources_AdultBodyMass</th>\n",
       "      <th>Max_longevity_d</th>\n",
       "      <th>Sources_Max_longevity</th>\n",
       "      <th>Rspan_d</th>\n",
       "      <th>AFR_d</th>\n",
       "      <th>Data_AFR</th>\n",
       "      <th>Calculated_GL_d</th>\n",
       "      <th>GenerationLength_d</th>\n",
       "      <th>Sources_GL</th>\n",
       "    </tr>\n",
       "  </thead>\n",
       "  <tbody>\n",
       "    <tr>\n",
       "      <td>0</td>\n",
       "      <td>Eligmodontia</td>\n",
       "      <td>Eligmodontia_typus</td>\n",
       "      <td>17.37</td>\n",
       "      <td>PanTHERIA</td>\n",
       "      <td>292</td>\n",
       "      <td>PanTHERIA</td>\n",
       "      <td>254.64</td>\n",
       "      <td>73.74</td>\n",
       "      <td>calculated</td>\n",
       "      <td>147.5856</td>\n",
       "      <td>147.585600</td>\n",
       "      <td>Rspan-AFR(SM+Gest)</td>\n",
       "    </tr>\n",
       "    <tr>\n",
       "      <td>1</td>\n",
       "      <td>Microtus</td>\n",
       "      <td>Microtus_oregoni</td>\n",
       "      <td>20.35</td>\n",
       "      <td>PanTHERIA</td>\n",
       "      <td>456.25</td>\n",
       "      <td>PanTHERIA</td>\n",
       "      <td>445.85</td>\n",
       "      <td>58.06</td>\n",
       "      <td>calculated</td>\n",
       "      <td>187.3565</td>\n",
       "      <td>187.356500</td>\n",
       "      <td>Rspan-AFR(SM+Gest)</td>\n",
       "    </tr>\n",
       "    <tr>\n",
       "      <td>2</td>\n",
       "      <td>Peromyscus</td>\n",
       "      <td>Peromyscus_gossypinus</td>\n",
       "      <td>27.68</td>\n",
       "      <td>PanTHERIA</td>\n",
       "      <td>471.45833335</td>\n",
       "      <td>PanTHERIA</td>\n",
       "      <td>444.87833335</td>\n",
       "      <td>72.58</td>\n",
       "      <td>calculated</td>\n",
       "      <td>201.59471667</td>\n",
       "      <td>201.594717</td>\n",
       "      <td>Rspan-AFR(SM+Gest)</td>\n",
       "    </tr>\n",
       "    <tr>\n",
       "      <td>3</td>\n",
       "      <td>Elephantulus</td>\n",
       "      <td>Elephantulus_myurus</td>\n",
       "      <td>59.51</td>\n",
       "      <td>PanTHERIA</td>\n",
       "      <td>401.5</td>\n",
       "      <td>PanTHERIA</td>\n",
       "      <td>412.34</td>\n",
       "      <td>90.48</td>\n",
       "      <td>calculated</td>\n",
       "      <td>210.0586</td>\n",
       "      <td>210.058600</td>\n",
       "      <td>Rspan-AFR(SM+Gest)</td>\n",
       "    </tr>\n",
       "    <tr>\n",
       "      <td>4</td>\n",
       "      <td>Peromyscus</td>\n",
       "      <td>Peromyscus_boylii</td>\n",
       "      <td>23.90</td>\n",
       "      <td>PanTHERIA</td>\n",
       "      <td>547.5</td>\n",
       "      <td>PanTHERIA</td>\n",
       "      <td>514.13</td>\n",
       "      <td>79.97</td>\n",
       "      <td>calculated</td>\n",
       "      <td>229.0677</td>\n",
       "      <td>229.067700</td>\n",
       "      <td>Rspan-AFR(SM+Gest)</td>\n",
       "    </tr>\n",
       "  </tbody>\n",
       "</table>\n",
       "</div>"
      ],
      "text/plain": [
       "          Genus        Scientific_name  AdultBodyMass_g Sources_AdultBodyMass  \\\n",
       "0  Eligmodontia     Eligmodontia_typus            17.37             PanTHERIA   \n",
       "1      Microtus       Microtus_oregoni            20.35             PanTHERIA   \n",
       "2    Peromyscus  Peromyscus_gossypinus            27.68             PanTHERIA   \n",
       "3  Elephantulus    Elephantulus_myurus            59.51             PanTHERIA   \n",
       "4    Peromyscus      Peromyscus_boylii            23.90             PanTHERIA   \n",
       "\n",
       "  Max_longevity_d Sources_Max_longevity       Rspan_d  AFR_d    Data_AFR  \\\n",
       "0             292             PanTHERIA        254.64  73.74  calculated   \n",
       "1          456.25             PanTHERIA        445.85  58.06  calculated   \n",
       "2    471.45833335             PanTHERIA  444.87833335  72.58  calculated   \n",
       "3           401.5             PanTHERIA        412.34  90.48  calculated   \n",
       "4           547.5             PanTHERIA        514.13  79.97  calculated   \n",
       "\n",
       "  Calculated_GL_d  GenerationLength_d          Sources_GL  \n",
       "0        147.5856          147.585600  Rspan-AFR(SM+Gest)  \n",
       "1        187.3565          187.356500  Rspan-AFR(SM+Gest)  \n",
       "2    201.59471667          201.594717  Rspan-AFR(SM+Gest)  \n",
       "3        210.0586          210.058600  Rspan-AFR(SM+Gest)  \n",
       "4        229.0677          229.067700  Rspan-AFR(SM+Gest)  "
      ]
     },
     "execution_count": 12,
     "metadata": {},
     "output_type": "execute_result"
    }
   ],
   "source": [
    "mammals_long_data.head()"
   ]
  },
  {
   "cell_type": "markdown",
   "metadata": {},
   "source": [
    "Объединенная табличка:"
   ]
  },
  {
   "cell_type": "code",
   "execution_count": 13,
   "metadata": {},
   "outputs": [],
   "source": [
    "data = pd.merge(agg, mammals_long_data, left_on=agg.Species, right_on=mammals_long_data.Scientific_name)"
   ]
  },
  {
   "cell_type": "code",
   "execution_count": 14,
   "metadata": {},
   "outputs": [],
   "source": [
    "data.drop('key_0', axis=1, inplace=True)"
   ]
  },
  {
   "cell_type": "code",
   "execution_count": 15,
   "metadata": {
    "scrolled": true
   },
   "outputs": [
    {
     "data": {
      "text/html": [
       "<div>\n",
       "<style scoped>\n",
       "    .dataframe tbody tr th:only-of-type {\n",
       "        vertical-align: middle;\n",
       "    }\n",
       "\n",
       "    .dataframe tbody tr th {\n",
       "        vertical-align: top;\n",
       "    }\n",
       "\n",
       "    .dataframe thead th {\n",
       "        text-align: right;\n",
       "    }\n",
       "</style>\n",
       "<table border=\"1\" class=\"dataframe\">\n",
       "  <thead>\n",
       "    <tr style=\"text-align: right;\">\n",
       "      <th></th>\n",
       "      <th>Species</th>\n",
       "      <th>Class</th>\n",
       "      <th>Gene</th>\n",
       "      <th>NeutralA</th>\n",
       "      <th>NeutralT</th>\n",
       "      <th>NeutralG</th>\n",
       "      <th>NeutralC</th>\n",
       "      <th>CTSkew</th>\n",
       "      <th>CGSkew</th>\n",
       "      <th>CASkew</th>\n",
       "      <th>...</th>\n",
       "      <th>AdultBodyMass_g</th>\n",
       "      <th>Sources_AdultBodyMass</th>\n",
       "      <th>Max_longevity_d</th>\n",
       "      <th>Sources_Max_longevity</th>\n",
       "      <th>Rspan_d</th>\n",
       "      <th>AFR_d</th>\n",
       "      <th>Data_AFR</th>\n",
       "      <th>Calculated_GL_d</th>\n",
       "      <th>GenerationLength_d</th>\n",
       "      <th>Sources_GL</th>\n",
       "    </tr>\n",
       "  </thead>\n",
       "  <tbody>\n",
       "    <tr>\n",
       "      <td>0</td>\n",
       "      <td>Acinonyx_jubatus</td>\n",
       "      <td>Mammalia</td>\n",
       "      <td>ATP6</td>\n",
       "      <td>48</td>\n",
       "      <td>28</td>\n",
       "      <td>7</td>\n",
       "      <td>25</td>\n",
       "      <td>-0.056604</td>\n",
       "      <td>0.562500</td>\n",
       "      <td>-0.315068</td>\n",
       "      <td>...</td>\n",
       "      <td>50577.92</td>\n",
       "      <td>PanTHERIA</td>\n",
       "      <td>7117.5</td>\n",
       "      <td>PanTHERIA;AnAge;Carn_Ung</td>\n",
       "      <td>5900.23</td>\n",
       "      <td>1217.27</td>\n",
       "      <td>PanTHERIA</td>\n",
       "      <td>2928.3367</td>\n",
       "      <td>2190.0</td>\n",
       "      <td>GMA</td>\n",
       "    </tr>\n",
       "    <tr>\n",
       "      <td>1</td>\n",
       "      <td>Acinonyx_jubatus</td>\n",
       "      <td>Mammalia</td>\n",
       "      <td>ATP8</td>\n",
       "      <td>26</td>\n",
       "      <td>3</td>\n",
       "      <td>2</td>\n",
       "      <td>3</td>\n",
       "      <td>0.000000</td>\n",
       "      <td>0.200000</td>\n",
       "      <td>-0.793103</td>\n",
       "      <td>...</td>\n",
       "      <td>50577.92</td>\n",
       "      <td>PanTHERIA</td>\n",
       "      <td>7117.5</td>\n",
       "      <td>PanTHERIA;AnAge;Carn_Ung</td>\n",
       "      <td>5900.23</td>\n",
       "      <td>1217.27</td>\n",
       "      <td>PanTHERIA</td>\n",
       "      <td>2928.3367</td>\n",
       "      <td>2190.0</td>\n",
       "      <td>GMA</td>\n",
       "    </tr>\n",
       "    <tr>\n",
       "      <td>2</td>\n",
       "      <td>Acinonyx_jubatus</td>\n",
       "      <td>Mammalia</td>\n",
       "      <td>COX1</td>\n",
       "      <td>113</td>\n",
       "      <td>81</td>\n",
       "      <td>19</td>\n",
       "      <td>53</td>\n",
       "      <td>-0.208955</td>\n",
       "      <td>0.472222</td>\n",
       "      <td>-0.361446</td>\n",
       "      <td>...</td>\n",
       "      <td>50577.92</td>\n",
       "      <td>PanTHERIA</td>\n",
       "      <td>7117.5</td>\n",
       "      <td>PanTHERIA;AnAge;Carn_Ung</td>\n",
       "      <td>5900.23</td>\n",
       "      <td>1217.27</td>\n",
       "      <td>PanTHERIA</td>\n",
       "      <td>2928.3367</td>\n",
       "      <td>2190.0</td>\n",
       "      <td>GMA</td>\n",
       "    </tr>\n",
       "    <tr>\n",
       "      <td>3</td>\n",
       "      <td>Acinonyx_jubatus</td>\n",
       "      <td>Mammalia</td>\n",
       "      <td>COX2</td>\n",
       "      <td>48</td>\n",
       "      <td>24</td>\n",
       "      <td>10</td>\n",
       "      <td>26</td>\n",
       "      <td>0.040000</td>\n",
       "      <td>0.444444</td>\n",
       "      <td>-0.297297</td>\n",
       "      <td>...</td>\n",
       "      <td>50577.92</td>\n",
       "      <td>PanTHERIA</td>\n",
       "      <td>7117.5</td>\n",
       "      <td>PanTHERIA;AnAge;Carn_Ung</td>\n",
       "      <td>5900.23</td>\n",
       "      <td>1217.27</td>\n",
       "      <td>PanTHERIA</td>\n",
       "      <td>2928.3367</td>\n",
       "      <td>2190.0</td>\n",
       "      <td>GMA</td>\n",
       "    </tr>\n",
       "    <tr>\n",
       "      <td>4</td>\n",
       "      <td>Acinonyx_jubatus</td>\n",
       "      <td>Mammalia</td>\n",
       "      <td>COX3</td>\n",
       "      <td>64</td>\n",
       "      <td>25</td>\n",
       "      <td>6</td>\n",
       "      <td>40</td>\n",
       "      <td>0.230769</td>\n",
       "      <td>0.739130</td>\n",
       "      <td>-0.230769</td>\n",
       "      <td>...</td>\n",
       "      <td>50577.92</td>\n",
       "      <td>PanTHERIA</td>\n",
       "      <td>7117.5</td>\n",
       "      <td>PanTHERIA;AnAge;Carn_Ung</td>\n",
       "      <td>5900.23</td>\n",
       "      <td>1217.27</td>\n",
       "      <td>PanTHERIA</td>\n",
       "      <td>2928.3367</td>\n",
       "      <td>2190.0</td>\n",
       "      <td>GMA</td>\n",
       "    </tr>\n",
       "  </tbody>\n",
       "</table>\n",
       "<p>5 rows × 25 columns</p>\n",
       "</div>"
      ],
      "text/plain": [
       "            Species     Class  Gene  NeutralA  NeutralT  NeutralG  NeutralC  \\\n",
       "0  Acinonyx_jubatus  Mammalia  ATP6        48        28         7        25   \n",
       "1  Acinonyx_jubatus  Mammalia  ATP8        26         3         2         3   \n",
       "2  Acinonyx_jubatus  Mammalia  COX1       113        81        19        53   \n",
       "3  Acinonyx_jubatus  Mammalia  COX2        48        24        10        26   \n",
       "4  Acinonyx_jubatus  Mammalia  COX3        64        25         6        40   \n",
       "\n",
       "     CTSkew    CGSkew    CASkew  ...  AdultBodyMass_g  Sources_AdultBodyMass  \\\n",
       "0 -0.056604  0.562500 -0.315068  ...         50577.92              PanTHERIA   \n",
       "1  0.000000  0.200000 -0.793103  ...         50577.92              PanTHERIA   \n",
       "2 -0.208955  0.472222 -0.361446  ...         50577.92              PanTHERIA   \n",
       "3  0.040000  0.444444 -0.297297  ...         50577.92              PanTHERIA   \n",
       "4  0.230769  0.739130 -0.230769  ...         50577.92              PanTHERIA   \n",
       "\n",
       "   Max_longevity_d     Sources_Max_longevity  Rspan_d    AFR_d   Data_AFR  \\\n",
       "0           7117.5  PanTHERIA;AnAge;Carn_Ung  5900.23  1217.27  PanTHERIA   \n",
       "1           7117.5  PanTHERIA;AnAge;Carn_Ung  5900.23  1217.27  PanTHERIA   \n",
       "2           7117.5  PanTHERIA;AnAge;Carn_Ung  5900.23  1217.27  PanTHERIA   \n",
       "3           7117.5  PanTHERIA;AnAge;Carn_Ung  5900.23  1217.27  PanTHERIA   \n",
       "4           7117.5  PanTHERIA;AnAge;Carn_Ung  5900.23  1217.27  PanTHERIA   \n",
       "\n",
       "  Calculated_GL_d GenerationLength_d Sources_GL  \n",
       "0       2928.3367             2190.0        GMA  \n",
       "1       2928.3367             2190.0        GMA  \n",
       "2       2928.3367             2190.0        GMA  \n",
       "3       2928.3367             2190.0        GMA  \n",
       "4       2928.3367             2190.0        GMA  \n",
       "\n",
       "[5 rows x 25 columns]"
      ]
     },
     "execution_count": 15,
     "metadata": {},
     "output_type": "execute_result"
    }
   ],
   "source": [
    "data.head()"
   ]
  },
  {
   "cell_type": "code",
   "execution_count": 16,
   "metadata": {},
   "outputs": [
    {
     "name": "stdout",
     "output_type": "stream",
     "text": [
      "<class 'pandas.core.frame.DataFrame'>\n",
      "Int64Index: 8450 entries, 0 to 8449\n",
      "Data columns (total 25 columns):\n",
      "Species                  8450 non-null object\n",
      "Class                    8450 non-null object\n",
      "Gene                     8450 non-null object\n",
      "NeutralA                 8450 non-null int64\n",
      "NeutralT                 8450 non-null int64\n",
      "NeutralG                 8450 non-null int64\n",
      "NeutralC                 8450 non-null int64\n",
      "CTSkew                   8450 non-null float64\n",
      "CGSkew                   8450 non-null float64\n",
      "CASkew                   8450 non-null float64\n",
      "TGSkew                   8448 non-null float64\n",
      "TASkew                   8450 non-null float64\n",
      "GASkew                   8450 non-null float64\n",
      "Genus                    8450 non-null object\n",
      "Scientific_name          8450 non-null object\n",
      "AdultBodyMass_g          8450 non-null float64\n",
      "Sources_AdultBodyMass    8450 non-null object\n",
      "Max_longevity_d          8450 non-null object\n",
      "Sources_Max_longevity    8450 non-null object\n",
      "Rspan_d                  8450 non-null object\n",
      "AFR_d                    8450 non-null object\n",
      "Data_AFR                 8450 non-null object\n",
      "Calculated_GL_d          8437 non-null object\n",
      "GenerationLength_d       8450 non-null float64\n",
      "Sources_GL               8450 non-null object\n",
      "dtypes: float64(8), int64(4), object(13)\n",
      "memory usage: 1.7+ MB\n"
     ]
    }
   ],
   "source": [
    "data.info()"
   ]
  },
  {
   "cell_type": "code",
   "execution_count": 17,
   "metadata": {
    "scrolled": true
   },
   "outputs": [],
   "source": [
    "data.drop('Class', axis=1, inplace=True)"
   ]
  },
  {
   "cell_type": "markdown",
   "metadata": {},
   "source": [
    "В таблице оказалось несколько nan из-за того, что у кого-то количество NeutralT и NeutralG одинаково."
   ]
  },
  {
   "cell_type": "code",
   "execution_count": 18,
   "metadata": {},
   "outputs": [],
   "source": [
    "data = data.dropna()"
   ]
  },
  {
   "cell_type": "markdown",
   "metadata": {},
   "source": [
    "Сформировали данные для модели:"
   ]
  },
  {
   "cell_type": "code",
   "execution_count": 19,
   "metadata": {},
   "outputs": [],
   "source": [
    "X = data[['CTSkew', 'CGSkew', 'CASkew', 'TGSkew', 'TASkew', 'GASkew']]\n",
    "y = np.log1p(data.GenerationLength_d)"
   ]
  },
  {
   "cell_type": "markdown",
   "metadata": {},
   "source": [
    "отнормировали:"
   ]
  },
  {
   "cell_type": "code",
   "execution_count": 20,
   "metadata": {},
   "outputs": [],
   "source": [
    "X_std = StandardScaler().fit_transform(X)"
   ]
  },
  {
   "cell_type": "markdown",
   "metadata": {},
   "source": [
    "Делаем регрессор на основе случайного леса, параметр количества деревьев ставим от балды:"
   ]
  },
  {
   "cell_type": "code",
   "execution_count": 21,
   "metadata": {},
   "outputs": [],
   "source": [
    "rfr = RandomForestRegressor(n_estimators=500)"
   ]
  },
  {
   "cell_type": "markdown",
   "metadata": {},
   "source": [
    "получили оценку качества работы первого попавшегося леса:"
   ]
  },
  {
   "cell_type": "code",
   "execution_count": 22,
   "metadata": {},
   "outputs": [],
   "source": [
    "scores = cross_val_score(rfr, X_std, y,cv=10,scoring='neg_mean_absolute_error')"
   ]
  },
  {
   "cell_type": "code",
   "execution_count": 23,
   "metadata": {},
   "outputs": [
    {
     "data": {
      "text/plain": [
       "-0.6063013233192356"
      ]
     },
     "execution_count": 23,
     "metadata": {},
     "output_type": "execute_result"
    }
   ],
   "source": [
    "scores.mean()"
   ]
  },
  {
   "cell_type": "markdown",
   "metadata": {},
   "source": [
    "Теперь обучимся на всех данных:"
   ]
  },
  {
   "cell_type": "code",
   "execution_count": 24,
   "metadata": {},
   "outputs": [
    {
     "data": {
      "text/plain": [
       "RandomForestRegressor(bootstrap=True, criterion='mse', max_depth=None,\n",
       "                      max_features='auto', max_leaf_nodes=None,\n",
       "                      min_impurity_decrease=0.0, min_impurity_split=None,\n",
       "                      min_samples_leaf=1, min_samples_split=2,\n",
       "                      min_weight_fraction_leaf=0.0, n_estimators=500,\n",
       "                      n_jobs=None, oob_score=False, random_state=None,\n",
       "                      verbose=0, warm_start=False)"
      ]
     },
     "execution_count": 24,
     "metadata": {},
     "output_type": "execute_result"
    }
   ],
   "source": [
    "rfr.fit(X_std, y)"
   ]
  },
  {
   "cell_type": "markdown",
   "metadata": {},
   "source": [
    "И получим вот такой график важности признаков:"
   ]
  },
  {
   "cell_type": "code",
   "execution_count": 25,
   "metadata": {},
   "outputs": [
    {
     "data": {
      "text/plain": [
       "Text(0.5, 1.0, 'log longetivity feature importance')"
      ]
     },
     "execution_count": 25,
     "metadata": {},
     "output_type": "execute_result"
    },
    {
     "data": {
      "image/png": "[encoded data removed]",
      "text/plain": [
       "<Figure size 720x720 with 1 Axes>"
      ]
     },
     "metadata": {
      "needs_background": "light"
     },
     "output_type": "display_data"
    }
   ],
   "source": [
    "std = np.std([ tree.feature_importances_ for tree in rfr.estimators_])\n",
    "\n",
    "plt.figure(figsize=(10,10))\n",
    "pd.Series(rfr.feature_importances_,['CTSkew', 'CGSkew', 'CASkew', 'TGSkew', 'TASkew', 'GASkew']).plot(kind='bar', yerr=std)\n",
    "plt.title('log longetivity feature importance')\n",
    "#plt.savefig('feature_importances.png')"
   ]
  },
  {
   "cell_type": "markdown",
   "metadata": {},
   "source": [
    "В общем-то для довольно неплохого качества модели получили важности признаков.\n",
    "Теперь попробуем максимально подогнать модель под данные, описав стратегию рандомизированного поиска в пространстве параметров."
   ]
  },
  {
   "cell_type": "code",
   "execution_count": 26,
   "metadata": {},
   "outputs": [],
   "source": [
    "from scipy.stats import randint"
   ]
  },
  {
   "cell_type": "code",
   "execution_count": 27,
   "metadata": {},
   "outputs": [],
   "source": [
    "param_distr = {'n_estimators':randint(5, 750),\n",
    "              'max_depth': [None] + [1,5,6, 7, 10],\n",
    "              'oob_score':[True, False]}"
   ]
  },
  {
   "cell_type": "code",
   "execution_count": 28,
   "metadata": {},
   "outputs": [],
   "source": [
    "searcher = RandomizedSearchCV(rfr, param_distributions=param_distr, scoring='neg_mean_absolute_error', n_jobs=-1,cv=10, verbose=2,n_iter=25)"
   ]
  },
  {
   "cell_type": "code",
   "execution_count": 29,
   "metadata": {
    "scrolled": false
   },
   "outputs": [
    {
     "name": "stdout",
     "output_type": "stream",
     "text": [
      "Fitting 10 folds for each of 25 candidates, totalling 250 fits\n"
     ]
    },
    {
     "name": "stderr",
     "output_type": "stream",
     "text": [
      "[Parallel(n_jobs=-1)]: Using backend LokyBackend with 8 concurrent workers.\n",
      "[Parallel(n_jobs=-1)]: Done  25 tasks      | elapsed:   23.8s\n",
      "[Parallel(n_jobs=-1)]: Done 146 tasks      | elapsed:  2.1min\n",
      "[Parallel(n_jobs=-1)]: Done 250 out of 250 | elapsed:  3.6min finished\n"
     ]
    },
    {
     "data": {
      "text/plain": [
       "RandomizedSearchCV(cv=10, error_score='raise-deprecating',\n",
       "                   estimator=RandomForestRegressor(bootstrap=True,\n",
       "                                                   criterion='mse',\n",
       "                                                   max_depth=None,\n",
       "                                                   max_features='auto',\n",
       "                                                   max_leaf_nodes=None,\n",
       "                                                   min_impurity_decrease=0.0,\n",
       "                                                   min_impurity_split=None,\n",
       "                                                   min_samples_leaf=1,\n",
       "                                                   min_samples_split=2,\n",
       "                                                   min_weight_fraction_leaf=0.0,\n",
       "                                                   n_estimators=500,\n",
       "                                                   n_jobs=None, oob_score=False,\n",
       "                                                   random_state=None, verbose=0,\n",
       "                                                   warm_start=False),\n",
       "                   iid='warn', n_iter=25, n_jobs=-1,\n",
       "                   param_distributions={'max_depth': [None, 1, 5, 6, 7, 10],\n",
       "                                        'n_estimators': <scipy.stats._distn_infrastructure.rv_frozen object at 0x14d047890>,\n",
       "                                        'oob_score': [True, False]},\n",
       "                   pre_dispatch='2*n_jobs', random_state=None, refit=True,\n",
       "                   return_train_score=False, scoring='neg_mean_absolute_error',\n",
       "                   verbose=2)"
      ]
     },
     "execution_count": 29,
     "metadata": {},
     "output_type": "execute_result"
    }
   ],
   "source": [
    "searcher.fit(X_std, y)"
   ]
  },
  {
   "cell_type": "markdown",
   "metadata": {},
   "source": [
    "Обучились вот до этого качества:"
   ]
  },
  {
   "cell_type": "code",
   "execution_count": 30,
   "metadata": {
    "scrolled": true
   },
   "outputs": [
    {
     "data": {
      "text/plain": [
       "-0.5768352122615761"
      ]
     },
     "execution_count": 30,
     "metadata": {},
     "output_type": "execute_result"
    }
   ],
   "source": [
    "searcher.best_score_"
   ]
  },
  {
   "cell_type": "code",
   "execution_count": 31,
   "metadata": {},
   "outputs": [
    {
     "data": {
      "text/plain": [
       "{'max_depth': 7, 'n_estimators': 577, 'oob_score': False}"
      ]
     },
     "execution_count": 31,
     "metadata": {},
     "output_type": "execute_result"
    }
   ],
   "source": [
    "searcher.best_params_"
   ]
  },
  {
   "cell_type": "markdown",
   "metadata": {},
   "source": [
    "Вот это уже взаимосвязи между именно X и y."
   ]
  },
  {
   "cell_type": "code",
   "execution_count": 32,
   "metadata": {},
   "outputs": [
    {
     "data": {
      "text/plain": [
       "Text(0.5, 1.0, 'log longetivity feature importane')"
      ]
     },
     "execution_count": 32,
     "metadata": {},
     "output_type": "execute_result"
    },
    {
     "data": {
      "image/png": "[encoded data removed]",
      "text/plain": [
       "<Figure size 720x720 with 1 Axes>"
      ]
     },
     "metadata": {
      "needs_background": "light"
     },
     "output_type": "display_data"
    }
   ],
   "source": [
    "plt.figure(figsize=(10,10))\n",
    "pd.Series(searcher.best_estimator_.feature_importances_,\n",
    "          ['CTSkew', 'CGSkew', 'CASkew', 'TGSkew', 'TASkew', 'GASkew']).plot(kind='bar', \n",
    "                                                                             yerr = np.std([ tree.feature_importances_ for tree in searcher.best_estimator_.estimators_]))\n",
    "plt.title('log longetivity feature importane')\n",
    "#plt.savefig('feature_importances.png')"
   ]
  },
  {
   "cell_type": "markdown",
   "metadata": {},
   "source": [
    "Итого, если хотим более общие закономерности - выбираем первый график и менее обученный лес, если хотим деталей в данных - второй график и переобученный лес."
   ]
  }
 ],
 "metadata": {
  "kernelspec": {
   "display_name": "Python 3",
   "language": "python",
   "name": "python3"
  },
  "language_info": {
   "codemirror_mode": {
    "name": "ipython",
    "version": 3
   },
   "file_extension": ".py",
   "mimetype": "text/x-python",
   "name": "python",
   "nbconvert_exporter": "python",
   "pygments_lexer": "ipython3",
   "version": "3.7.4"
  }
 },
 "nbformat": 4,
 "nbformat_minor": 2
}
